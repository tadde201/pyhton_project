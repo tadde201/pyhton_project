{
 "cells": [
  {
   "cell_type": "code",
   "execution_count": 1,
   "id": "88d10fed",
   "metadata": {},
   "outputs": [],
   "source": [
    "import pandas as pd\n",
    "import numpy as np\n",
    "import seaborn as sns\n",
    "import matplotlib.pyplot as plt"
   ]
  },
  {
   "cell_type": "code",
   "execution_count": 2,
   "id": "2aad29e5",
   "metadata": {},
   "outputs": [],
   "source": [
    "#Tis is a simple script to demonstrate the use of pandas, numpy, seaborn, and matplotlib.\n",
    "#It creates a DataFrame, performs some basic operations, and visualizes the data.\n",
    "df=pd.read_csv(r\"C:\\Users\\tadde\\Desktop\\BI\\Python_project\\pyhton_project\\sample_ecommerce_data.csv\")"
   ]
  },
  {
   "cell_type": "code",
   "execution_count": 3,
   "id": "b93a917e",
   "metadata": {},
   "outputs": [
    {
     "name": "stdout",
     "output_type": "stream",
     "text": [
      "<class 'pandas.core.frame.DataFrame'>\n",
      "RangeIndex: 5 entries, 0 to 4\n",
      "Data columns (total 8 columns):\n",
      " #   Column              Non-Null Count  Dtype  \n",
      "---  ------              --------------  -----  \n",
      " 0   order_id            5 non-null      int64  \n",
      " 1   user_id             5 non-null      int64  \n",
      " 2   order_value         5 non-null      float64\n",
      " 3   product_id          5 non-null      object \n",
      " 4   session_id          5 non-null      object \n",
      " 5   date                5 non-null      object \n",
      " 6   added_to_cart       5 non-null      bool   \n",
      " 7   completed_checkout  5 non-null      bool   \n",
      "dtypes: bool(2), float64(1), int64(2), object(3)\n",
      "memory usage: 382.0+ bytes\n"
     ]
    }
   ],
   "source": [
    "df.info()"
   ]
  },
  {
   "cell_type": "code",
   "execution_count": 4,
   "id": "fa02fc47",
   "metadata": {},
   "outputs": [
    {
     "data": {
      "text/html": [
       "<div>\n",
       "<style scoped>\n",
       "    .dataframe tbody tr th:only-of-type {\n",
       "        vertical-align: middle;\n",
       "    }\n",
       "\n",
       "    .dataframe tbody tr th {\n",
       "        vertical-align: top;\n",
       "    }\n",
       "\n",
       "    .dataframe thead th {\n",
       "        text-align: right;\n",
       "    }\n",
       "</style>\n",
       "<table border=\"1\" class=\"dataframe\">\n",
       "  <thead>\n",
       "    <tr style=\"text-align: right;\">\n",
       "      <th></th>\n",
       "      <th>order_id</th>\n",
       "      <th>user_id</th>\n",
       "      <th>order_value</th>\n",
       "    </tr>\n",
       "  </thead>\n",
       "  <tbody>\n",
       "    <tr>\n",
       "      <th>count</th>\n",
       "      <td>5.000000</td>\n",
       "      <td>5.000000</td>\n",
       "      <td>5.000000</td>\n",
       "    </tr>\n",
       "    <tr>\n",
       "      <th>mean</th>\n",
       "      <td>103.000000</td>\n",
       "      <td>3.000000</td>\n",
       "      <td>53.996000</td>\n",
       "    </tr>\n",
       "    <tr>\n",
       "      <th>std</th>\n",
       "      <td>1.581139</td>\n",
       "      <td>1.581139</td>\n",
       "      <td>53.663675</td>\n",
       "    </tr>\n",
       "    <tr>\n",
       "      <th>min</th>\n",
       "      <td>101.000000</td>\n",
       "      <td>1.000000</td>\n",
       "      <td>0.000000</td>\n",
       "    </tr>\n",
       "    <tr>\n",
       "      <th>25%</th>\n",
       "      <td>102.000000</td>\n",
       "      <td>2.000000</td>\n",
       "      <td>0.000000</td>\n",
       "    </tr>\n",
       "    <tr>\n",
       "      <th>50%</th>\n",
       "      <td>103.000000</td>\n",
       "      <td>3.000000</td>\n",
       "      <td>59.990000</td>\n",
       "    </tr>\n",
       "    <tr>\n",
       "      <th>75%</th>\n",
       "      <td>104.000000</td>\n",
       "      <td>4.000000</td>\n",
       "      <td>89.990000</td>\n",
       "    </tr>\n",
       "    <tr>\n",
       "      <th>max</th>\n",
       "      <td>105.000000</td>\n",
       "      <td>5.000000</td>\n",
       "      <td>120.000000</td>\n",
       "    </tr>\n",
       "  </tbody>\n",
       "</table>\n",
       "</div>"
      ],
      "text/plain": [
       "         order_id   user_id  order_value\n",
       "count    5.000000  5.000000     5.000000\n",
       "mean   103.000000  3.000000    53.996000\n",
       "std      1.581139  1.581139    53.663675\n",
       "min    101.000000  1.000000     0.000000\n",
       "25%    102.000000  2.000000     0.000000\n",
       "50%    103.000000  3.000000    59.990000\n",
       "75%    104.000000  4.000000    89.990000\n",
       "max    105.000000  5.000000   120.000000"
      ]
     },
     "execution_count": 4,
     "metadata": {},
     "output_type": "execute_result"
    }
   ],
   "source": [
    "df.describe()"
   ]
  },
  {
   "cell_type": "code",
   "execution_count": 5,
   "id": "77b7ce68",
   "metadata": {},
   "outputs": [
    {
     "data": {
      "text/html": [
       "<div>\n",
       "<style scoped>\n",
       "    .dataframe tbody tr th:only-of-type {\n",
       "        vertical-align: middle;\n",
       "    }\n",
       "\n",
       "    .dataframe tbody tr th {\n",
       "        vertical-align: top;\n",
       "    }\n",
       "\n",
       "    .dataframe thead th {\n",
       "        text-align: right;\n",
       "    }\n",
       "</style>\n",
       "<table border=\"1\" class=\"dataframe\">\n",
       "  <thead>\n",
       "    <tr style=\"text-align: right;\">\n",
       "      <th></th>\n",
       "      <th>order_id</th>\n",
       "      <th>user_id</th>\n",
       "      <th>order_value</th>\n",
       "      <th>product_id</th>\n",
       "      <th>session_id</th>\n",
       "      <th>date</th>\n",
       "      <th>added_to_cart</th>\n",
       "      <th>completed_checkout</th>\n",
       "    </tr>\n",
       "  </thead>\n",
       "  <tbody>\n",
       "    <tr>\n",
       "      <th>0</th>\n",
       "      <td>101</td>\n",
       "      <td>1</td>\n",
       "      <td>89.99</td>\n",
       "      <td>A1</td>\n",
       "      <td>S1</td>\n",
       "      <td>2025-07-01</td>\n",
       "      <td>True</td>\n",
       "      <td>True</td>\n",
       "    </tr>\n",
       "    <tr>\n",
       "      <th>1</th>\n",
       "      <td>102</td>\n",
       "      <td>2</td>\n",
       "      <td>0.00</td>\n",
       "      <td>A2</td>\n",
       "      <td>S2</td>\n",
       "      <td>2025-07-01</td>\n",
       "      <td>True</td>\n",
       "      <td>False</td>\n",
       "    </tr>\n",
       "    <tr>\n",
       "      <th>2</th>\n",
       "      <td>103</td>\n",
       "      <td>3</td>\n",
       "      <td>120.00</td>\n",
       "      <td>A3</td>\n",
       "      <td>S3</td>\n",
       "      <td>2025-07-02</td>\n",
       "      <td>False</td>\n",
       "      <td>False</td>\n",
       "    </tr>\n",
       "    <tr>\n",
       "      <th>3</th>\n",
       "      <td>104</td>\n",
       "      <td>4</td>\n",
       "      <td>59.99</td>\n",
       "      <td>A4</td>\n",
       "      <td>S4</td>\n",
       "      <td>2025-07-02</td>\n",
       "      <td>True</td>\n",
       "      <td>True</td>\n",
       "    </tr>\n",
       "    <tr>\n",
       "      <th>4</th>\n",
       "      <td>105</td>\n",
       "      <td>5</td>\n",
       "      <td>0.00</td>\n",
       "      <td>A2</td>\n",
       "      <td>S5</td>\n",
       "      <td>2025-07-03</td>\n",
       "      <td>True</td>\n",
       "      <td>False</td>\n",
       "    </tr>\n",
       "  </tbody>\n",
       "</table>\n",
       "</div>"
      ],
      "text/plain": [
       "   order_id  user_id  order_value product_id session_id        date  \\\n",
       "0       101        1        89.99         A1         S1  2025-07-01   \n",
       "1       102        2         0.00         A2         S2  2025-07-01   \n",
       "2       103        3       120.00         A3         S3  2025-07-02   \n",
       "3       104        4        59.99         A4         S4  2025-07-02   \n",
       "4       105        5         0.00         A2         S5  2025-07-03   \n",
       "\n",
       "   added_to_cart  completed_checkout  \n",
       "0           True                True  \n",
       "1           True               False  \n",
       "2          False               False  \n",
       "3           True                True  \n",
       "4           True               False  "
      ]
     },
     "execution_count": 5,
     "metadata": {},
     "output_type": "execute_result"
    }
   ],
   "source": [
    "df.head()"
   ]
  },
  {
   "cell_type": "code",
   "execution_count": 6,
   "id": "601e634f",
   "metadata": {},
   "outputs": [
    {
     "data": {
      "text/html": [
       "<div>\n",
       "<style scoped>\n",
       "    .dataframe tbody tr th:only-of-type {\n",
       "        vertical-align: middle;\n",
       "    }\n",
       "\n",
       "    .dataframe tbody tr th {\n",
       "        vertical-align: top;\n",
       "    }\n",
       "\n",
       "    .dataframe thead th {\n",
       "        text-align: right;\n",
       "    }\n",
       "</style>\n",
       "<table border=\"1\" class=\"dataframe\">\n",
       "  <thead>\n",
       "    <tr style=\"text-align: right;\">\n",
       "      <th></th>\n",
       "      <th>order_id</th>\n",
       "      <th>user_id</th>\n",
       "      <th>order_value</th>\n",
       "      <th>product_id</th>\n",
       "      <th>session_id</th>\n",
       "      <th>date</th>\n",
       "      <th>added_to_cart</th>\n",
       "      <th>completed_checkout</th>\n",
       "    </tr>\n",
       "  </thead>\n",
       "  <tbody>\n",
       "    <tr>\n",
       "      <th>0</th>\n",
       "      <td>101</td>\n",
       "      <td>1</td>\n",
       "      <td>89.99</td>\n",
       "      <td>A1</td>\n",
       "      <td>S1</td>\n",
       "      <td>2025-07-01</td>\n",
       "      <td>True</td>\n",
       "      <td>True</td>\n",
       "    </tr>\n",
       "    <tr>\n",
       "      <th>1</th>\n",
       "      <td>102</td>\n",
       "      <td>2</td>\n",
       "      <td>0.00</td>\n",
       "      <td>A2</td>\n",
       "      <td>S2</td>\n",
       "      <td>2025-07-01</td>\n",
       "      <td>True</td>\n",
       "      <td>False</td>\n",
       "    </tr>\n",
       "    <tr>\n",
       "      <th>2</th>\n",
       "      <td>103</td>\n",
       "      <td>3</td>\n",
       "      <td>120.00</td>\n",
       "      <td>A3</td>\n",
       "      <td>S3</td>\n",
       "      <td>2025-07-02</td>\n",
       "      <td>False</td>\n",
       "      <td>False</td>\n",
       "    </tr>\n",
       "    <tr>\n",
       "      <th>3</th>\n",
       "      <td>104</td>\n",
       "      <td>4</td>\n",
       "      <td>59.99</td>\n",
       "      <td>A4</td>\n",
       "      <td>S4</td>\n",
       "      <td>2025-07-02</td>\n",
       "      <td>True</td>\n",
       "      <td>True</td>\n",
       "    </tr>\n",
       "    <tr>\n",
       "      <th>4</th>\n",
       "      <td>105</td>\n",
       "      <td>5</td>\n",
       "      <td>0.00</td>\n",
       "      <td>A2</td>\n",
       "      <td>S5</td>\n",
       "      <td>2025-07-03</td>\n",
       "      <td>True</td>\n",
       "      <td>False</td>\n",
       "    </tr>\n",
       "  </tbody>\n",
       "</table>\n",
       "</div>"
      ],
      "text/plain": [
       "   order_id  user_id  order_value product_id session_id        date  \\\n",
       "0       101        1        89.99         A1         S1  2025-07-01   \n",
       "1       102        2         0.00         A2         S2  2025-07-01   \n",
       "2       103        3       120.00         A3         S3  2025-07-02   \n",
       "3       104        4        59.99         A4         S4  2025-07-02   \n",
       "4       105        5         0.00         A2         S5  2025-07-03   \n",
       "\n",
       "   added_to_cart  completed_checkout  \n",
       "0           True                True  \n",
       "1           True               False  \n",
       "2          False               False  \n",
       "3           True                True  \n",
       "4           True               False  "
      ]
     },
     "execution_count": 6,
     "metadata": {},
     "output_type": "execute_result"
    }
   ],
   "source": [
    "df.tail()"
   ]
  },
  {
   "cell_type": "code",
   "execution_count": 7,
   "id": "ecaa7a5e",
   "metadata": {},
   "outputs": [
    {
     "name": "stdout",
     "output_type": "stream",
     "text": [
      "Total unique sessions: 5\n"
     ]
    }
   ],
   "source": [
    "total_sessions = df['session_id'].nunique()\n",
    "print(f\"Total unique sessions: {total_sessions}\")"
   ]
  },
  {
   "cell_type": "code",
   "execution_count": 8,
   "id": "7066526e",
   "metadata": {},
   "outputs": [
    {
     "name": "stdout",
     "output_type": "stream",
     "text": [
      "Total unique users: 5\n"
     ]
    }
   ],
   "source": [
    "# Total users\n",
    "total_users = df['user_id'].nunique()\n",
    "print(f\"Total unique users:\",total_users)"
   ]
  },
  {
   "cell_type": "code",
   "execution_count": 9,
   "id": "be411230",
   "metadata": {},
   "outputs": [
    {
     "name": "stdout",
     "output_type": "stream",
     "text": [
      "Total orders: 3\n"
     ]
    }
   ],
   "source": [
    "# Total orders (non-zero order value)\n",
    "total_orders = df[df['order_value'] > 0].shape[0]\n",
    "print(\"Total orders:\" ,total_orders)"
   ]
  },
  {
   "cell_type": "code",
   "execution_count": 10,
   "id": "658d59c6",
   "metadata": {},
   "outputs": [
    {
     "name": "stdout",
     "output_type": "stream",
     "text": [
      "Total revenue: 269.98\n"
     ]
    }
   ],
   "source": [
    "# Total revenue\n",
    "total_revenue = df['order_value'].sum()\n",
    "print(\"Total revenue:\",total_revenue)"
   ]
  },
  {
   "cell_type": "code",
   "execution_count": 11,
   "id": "4ddb35f9",
   "metadata": {},
   "outputs": [
    {
     "name": "stdout",
     "output_type": "stream",
     "text": [
      "Total orders: 3\n"
     ]
    }
   ],
   "source": [
    "# Total orders (non-zero order value)\n",
    "total_orders = df[df['order_value'] > 0].shape[0]\n",
    "print(\"Total orders:\", total_orders)"
   ]
  },
  {
   "cell_type": "code",
   "execution_count": 12,
   "id": "c9bf9b8c",
   "metadata": {},
   "outputs": [
    {
     "name": "stdout",
     "output_type": "stream",
     "text": [
      "Average Order Value (AOV): 89.99333333333334\n"
     ]
    }
   ],
   "source": [
    "# AOV (Average Order Value)\n",
    "aov = total_revenue / total_orders if total_orders else 0\n",
    "print(\"Average Order Value (AOV):\", aov)"
   ]
  },
  {
   "cell_type": "code",
   "execution_count": 13,
   "id": "b96e2cf8",
   "metadata": {},
   "outputs": [
    {
     "name": "stdout",
     "output_type": "stream",
     "text": [
      "Conversion Rate: 60.00%\n"
     ]
    }
   ],
   "source": [
    "# Conversion rate\n",
    "conversion_rate = total_orders / total_sessions * 100\n",
    "print(f\"Conversion Rate: {conversion_rate:.2f}%\")"
   ]
  },
  {
   "cell_type": "code",
   "execution_count": 14,
   "id": "a526cafa",
   "metadata": {},
   "outputs": [
    {
     "name": "stdout",
     "output_type": "stream",
     "text": [
      "Add-to-Cart Rate: 80.00%\n"
     ]
    }
   ],
   "source": [
    "# Add-to-cart rate\n",
    "add_to_cart_rate = df['added_to_cart'].sum() / total_sessions * 100\n",
    "print(f\"Add-to-Cart Rate: {add_to_cart_rate:.2f}%\")"
   ]
  },
  {
   "cell_type": "code",
   "execution_count": 15,
   "id": "d51dd363",
   "metadata": {},
   "outputs": [
    {
     "name": "stdout",
     "output_type": "stream",
     "text": [
      "Cart Abandonment Rate: 50.00%\n"
     ]
    }
   ],
   "source": [
    "# Cart abandonment rate\n",
    "cart_abandoned = df[(df['added_to_cart']) & (~df['completed_checkout'])].shape[0]\n",
    "cart_abandonment_rate = cart_abandoned / df['added_to_cart'].sum() * 100\n",
    "print(f\"Cart Abandonment Rate: {cart_abandonment_rate:.2f}%\")"
   ]
  },
  {
   "cell_type": "code",
   "execution_count": 16,
   "id": "ef11bd6c",
   "metadata": {},
   "outputs": [
    {
     "name": "stdout",
     "output_type": "stream",
     "text": [
      "Total Sessions: 5\n",
      "Total Orders: 3\n",
      "Total Revenue: $269.98\n",
      "AOV: $89.99\n",
      "Conversion Rate: 60.00%\n",
      "Add-to-Cart Rate: 80.00%\n",
      "Cart Abandonment Rate: 50.00%\n"
     ]
    }
   ],
   "source": [
    "# Print results for verification\n",
    "print(f\"Total Sessions: {total_sessions}\")\n",
    "print(f\"Total Orders: {total_orders}\")\n",
    "print(f\"Total Revenue: ${total_revenue:.2f}\")\n",
    "print(f\"AOV: ${aov:.2f}\")\n",
    "print(f\"Conversion Rate: {conversion_rate:.2f}%\")\n",
    "print(f\"Add-to-Cart Rate: {add_to_cart_rate:.2f}%\")\n",
    "print(f\"Cart Abandonment Rate: {cart_abandonment_rate:.2f}%\")"
   ]
  },
  {
   "cell_type": "code",
   "execution_count": null,
   "id": "88cee638",
   "metadata": {},
   "outputs": [
    {
     "data": {
      "image/png": "[encoded data removed]",
      "text/plain": [
       "<Figure size 1000x600 with 1 Axes>"
      ]
     },
     "metadata": {},
     "output_type": "display_data"
    }
   ],
   "source": [
    "# Prepare data for visualization\n",
    "data = {\n",
    "    'Metric': [\n",
    "        'Total Sessions',\n",
    "        'Total Orders',\n",
    "        'Total Revenue',\n",
    "        'AOV',\n",
    "        'Conversion Rate',\n",
    "        'Add-to-Cart Rate',\n",
    "        'Cart Abandonment Rate'\n",
    "    ],\n",
    "    'Value': [\n",
    "        5,\n",
    "        3,\n",
    "        269.98,\n",
    "        89.99,\n",
    "        60.00,\n",
    "        80.00,\n",
    "        50.00\n",
    "    ]\n",
    "}\n",
    "\n",
    "# Create DataFrame\n",
    "df = pd.DataFrame(data)\n",
    "\n",
    "# Create bar plot\n",
    "plt.figure(figsize=(10, 6))\n",
    "plt.bar(df['Metric'], df['Value'], color='skyblue')\n",
    "\n",
    "# Add labels and title\n",
    "plt.title('E-commerce KPIs', fontsize=16)\n",
    "plt.xlabel('Metric', fontsize=12)\n",
    "plt.ylabel('Value', fontsize=12)\n",
    "plt.xticks(rotation=45, ha='right')\n",
    "\n",
    "# Add value labels above bars\n",
    "for i, v in enumerate(df['Value']):\n",
    "    plt.text(i, v + (v * 0.02), f\"{v}\", ha='center', fontsize=10)\n",
    "\n",
    "# Display the chart\n",
    "plt.tight_layout()\n",
    "plt.show()"
   ]
  },
  {
   "cell_type": "code",
   "execution_count": null,
   "id": "b96f719e",
   "metadata": {},
   "outputs": [],
   "source": []
  },
  {
   "cell_type": "code",
   "execution_count": null,
   "id": "36785d20",
   "metadata": {},
   "outputs": [],
   "source": []
  },
  {
   "cell_type": "code",
   "execution_count": null,
   "id": "b654720d",
   "metadata": {},
   "outputs": [],
   "source": []
  }
 ],
 "metadata": {
  "kernelspec": {
   "display_name": "Python 3",
   "language": "python",
   "name": "python3"
  },
  "language_info": {
   "codemirror_mode": {
    "name": "ipython",
    "version": 3
   },
   "file_extension": ".py",
   "mimetype": "text/x-python",
   "name": "python",
   "nbconvert_exporter": "python",
   "pygments_lexer": "ipython3",
   "version": "3.12.0"
  }
 },
 "nbformat": 4,
 "nbformat_minor": 5
}
